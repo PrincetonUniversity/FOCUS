{
 "cells": [
  {
   "cell_type": "code",
   "execution_count": 1,
   "metadata": {},
   "outputs": [],
   "source": [
    "# import necessary packages\n",
    "import numpy as np\n",
    "import matplotlib.pyplot as plt\n",
    "from mpi4py import MPI\n",
    "from focuspy import FOCUS"
   ]
  },
  {
   "cell_type": "code",
   "execution_count": 2,
   "metadata": {},
   "outputs": [
    {
     "name": "stdout",
     "output_type": "stream",
     "text": [
      "/Users/caoxiang/Documents/Codes/FOCUS/examples/rotating_ellipse\n"
     ]
    }
   ],
   "source": [
    "cd ../examples/rotating_ellipse/"
   ]
  },
  {
   "cell_type": "code",
   "execution_count": 3,
   "metadata": {},
   "outputs": [],
   "source": [
    "# initialize\n",
    "comm = MPI.COMM_WORLD\n",
    "ext = 'ellipse'\n",
    "ellipse = FOCUS(comm=comm, extension=ext, verbose=True)"
   ]
  },
  {
   "cell_type": "code",
   "execution_count": 4,
   "metadata": {},
   "outputs": [],
   "source": [
    "# change variables and run \n",
    "ellipse.globals.case_optimize = 0\n",
    "ellipse.globals.case_postproc = 1\n",
    "ellipse.run(verbose=True) \n",
    "# screen output will apear if you don't use jupyter noteboook"
   ]
  },
  {
   "cell_type": "markdown",
   "metadata": {},
   "source": [
    "You can access all the variables in `globals`.\n",
    "There is something wrong with allocatable arrays in a derived type, it will crash if you tried to check those variables like,\n",
    "`ellipse.globals.coil[1].xx`\n",
    "`ellipse.globals.surf[0].bn`."
   ]
  },
  {
   "cell_type": "code",
   "execution_count": 5,
   "metadata": {},
   "outputs": [
    {
     "name": "stdout",
     "output_type": "stream",
     "text": [
      "0.38178882123087676\n"
     ]
    }
   ],
   "source": [
    "print(ellipse.globals.bnorm)"
   ]
  },
  {
   "cell_type": "code",
   "execution_count": 6,
   "metadata": {},
   "outputs": [
    {
     "name": "stdout",
     "output_type": "stream",
     "text": [
      "4\n"
     ]
    }
   ],
   "source": [
    "print(len(ellipse.globals.coil))"
   ]
  },
  {
   "cell_type": "code",
   "execution_count": 7,
   "metadata": {},
   "outputs": [
    {
     "name": "stdout",
     "output_type": "stream",
     "text": [
      "b'Mod_002   '\n"
     ]
    }
   ],
   "source": [
    "print(ellipse.globals.coil[1].name)"
   ]
  },
  {
   "cell_type": "code",
   "execution_count": null,
   "metadata": {},
   "outputs": [],
   "source": []
  }
 ],
 "metadata": {
  "kernelspec": {
   "display_name": "Python 3",
   "language": "python",
   "name": "python3"
  },
  "language_info": {
   "codemirror_mode": {
    "name": "ipython",
    "version": 3
   },
   "file_extension": ".py",
   "mimetype": "text/x-python",
   "name": "python",
   "nbconvert_exporter": "python",
   "pygments_lexer": "ipython3",
   "version": "3.8.3"
  }
 },
 "nbformat": 4,
 "nbformat_minor": 4
}
